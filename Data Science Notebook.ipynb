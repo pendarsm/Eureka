{
    "cells": [
        {
            "cell_type": "markdown",
            "metadata": {},
            "source": "# My Jupyter Notebook on IBM Watson Studio"
        },
        {
            "cell_type": "markdown",
            "metadata": {},
            "source": "**Pendar Soltanmohammadi**\n\nOccupation: Data Scientist"
        },
        {
            "cell_type": "markdown",
            "metadata": {},
            "source": "*I am interested in data science because I am fascinated by the power of data to uncover insights and solve complex problems, and I'm eager to contribute to advancements in technology and society through data-driven approaches. Additionally, I enjoy the interdisciplinary nature of data science, which allows me to integrate skills from various fields such as statistics, computer science, and domain expertise to tackle real-world challenges.*"
        },
        {
            "cell_type": "markdown",
            "metadata": {},
            "source": "### A Sample Arithmetic Expression"
        },
        {
            "cell_type": "code",
            "execution_count": 3,
            "metadata": {},
            "outputs": [
                {
                    "name": "stdout",
                    "output_type": "stream",
                    "text": "2\n"
                }
            ],
            "source": "print(1 + 1)"
        },
        {
            "cell_type": "markdown",
            "metadata": {},
            "source": "**Objectives:**\n* List popular languages for Data Science\n* List commonly used libraries for Data Science\n* Development environment open source tools for Data Science\n* Examples of evaluating arithmetic expressions in Python\n\nSome of the popular languages that Data Scientists use are:\n1. Python\n2. R\n3. Julia\n\n| Data Science Tools |\n|------------------- |\n|Visula Studio Code|\n|JupyterLab|\n|Spyder|\n\nIBM Watson Studio Logo: ![IBM Logo](https://ibm.github.io/watson-studio-workshop/housing-price-predictor/assets/watson_logo.png)\n\n[IBM Cloud Home Page](https://www.ibm.com/cloud)"
        }
    ],
    "metadata": {
        "kernelspec": {
            "display_name": "Python 3.10",
            "language": "python",
            "name": "python3"
        },
        "language_info": {
            "codemirror_mode": {
                "name": "ipython",
                "version": 3
            },
            "file_extension": ".py",
            "mimetype": "text/x-python",
            "name": "python",
            "nbconvert_exporter": "python",
            "pygments_lexer": "ipython3",
            "version": "3.10.13"
        }
    },
    "nbformat": 4,
    "nbformat_minor": 1
}